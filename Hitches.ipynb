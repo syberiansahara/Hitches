{
 "cells": [
  {
   "cell_type": "code",
   "execution_count": 7,
   "metadata": {
    "collapsed": true
   },
   "outputs": [],
   "source": [
    "import numpy as np\n",
    "import matplotlib as mpl\n",
    "import matplotlib.pyplot as plt\n",
    "%matplotlib inline\n",
    "inline_rc = dict(mpl.rcParams)\n",
    "import re\n",
    "from datetime import timedelta"
   ]
  },
  {
   "cell_type": "code",
   "execution_count": 2,
   "metadata": {
    "collapsed": false
   },
   "outputs": [
    {
     "name": "stdout",
     "output_type": "stream",
     "text": [
      "[[ 405 1806]\n",
      " [ 857 1806]\n",
      " [ 568 1806]\n",
      " [ 329 1806]]\n"
     ]
    }
   ],
   "source": [
    "hitches = [line.rstrip('\\r\\n') for line in open(r'C:\\Users\\syber\\Desktop\\THESIS\\Hitches\\THESIS-sandbox.csv')]\n",
    "regex = re.compile(r'((?P<days>\\d+?)d)?((?P<hours>\\d+?)h)?((?P<minutes>\\d+?)m)?((?P<seconds>\\d+?)s) (?P<date>\\d+?)?$')\n",
    "\n",
    "def parse_time(time_str):\n",
    "    parts = regex.match(time_str)\n",
    "    if not parts:\n",
    "        return\n",
    "    parts = parts.groupdict()\n",
    "    \n",
    "    time_params = {}\n",
    "    interval_params = ['days', 'hours', 'minutes', 'seconds']\n",
    "    for (name) in (interval_params):\n",
    "        time_params[name] = int(parts[name])\n",
    "           \n",
    "    return int(timedelta(**time_params).seconds), int(parts['date']) \n",
    "\n",
    "matrix = np.asmatrix(map(parse_time, hitches))\n",
    "print matrix[3:7]"
   ]
  },
  {
   "cell_type": "code",
   "execution_count": 3,
   "metadata": {
    "collapsed": false
   },
   "outputs": [
    {
     "name": "stdout",
     "output_type": "stream",
     "text": [
      "<type 'numpy.ndarray'> <type 'numpy.int32'>\n",
      "[1612 1701 1702 1703 1704 1705 1706 1707 1708 1709 1710 1711 1712 1801 1802\n",
      " 1803 1804 1805 1806]\n"
     ]
    }
   ],
   "source": [
    "months = np.unique(np.array(matrix[:,1]))\n",
    "print type(months), type(months[0])\n",
    "print months"
   ]
  },
  {
   "cell_type": "code",
   "execution_count": 5,
   "metadata": {
    "collapsed": false
   },
   "outputs": [
    {
     "name": "stdout",
     "output_type": "stream",
     "text": [
      "[[  1612.          10525.90537634]\n",
      " [  1701.          13141.04709141]\n",
      " [  1702.          13297.0819209 ]\n",
      " [  1703.          11080.77393075]\n",
      " [  1704.          18445.36518047]\n",
      " [  1705.          19117.68502582]\n",
      " [  1706.          11118.12106538]\n",
      " [  1707.          10292.38632479]\n",
      " [  1708.           9569.40127389]\n",
      " [  1709.          11938.6880597 ]\n",
      " [  1710.           7060.9845679 ]\n",
      " [  1711.           4819.5399361 ]\n",
      " [  1712.           6421.59710495]\n",
      " [  1801.           2612.64821429]\n",
      " [  1802.           1780.90322581]\n",
      " [  1803.           4225.70588235]\n",
      " [  1804.           3431.44481054]\n",
      " [  1805.           3077.3776    ]\n",
      " [  1806.           3453.17      ]]\n"
     ]
    }
   ],
   "source": [
    "arr = []\n",
    "for date in months:\n",
    "    hitches_for_month = np.squeeze(np.asarray(matrix[matrix[:,1] == date]))\n",
    "    mean = np.mean(np.array(hitches_for_month).astype(np.int))\n",
    "    arr.append([date, mean])\n",
    "arr = np.asarray(arr)\n",
    "print arr"
   ]
  },
  {
   "cell_type": "code",
   "execution_count": null,
   "metadata": {
    "collapsed": false
   },
   "outputs": [],
   "source": [
    "for style in plt.style.available:\n",
    "    print style\n",
    "    plt.style.use(style)\n",
    "    plt.bar(range(len(arr)), arr[:,1], align='center')  # python 2.x\n",
    "    plt.xticks(range(len(arr)), arr[:,0])\n",
    "    plt.show()\n",
    "    mpl.rcParams.update(inline_rc)"
   ]
  },
  {
   "cell_type": "code",
   "execution_count": 30,
   "metadata": {
    "collapsed": false
   },
   "outputs": [],
   "source": [
    "regex_int = re.compile(r'^(?P<year>\\d{2}?)?(?P<month>\\d+?)$')\n",
    "\n",
    "def parse_int(time_int):\n",
    "    parts = regex.match(str(int(time_int)))\n",
    "    if not parts:\n",
    "        return\n",
    "    parts = parts.groupdict()\n",
    "          \n",
    "    return parts['month'] + '.' + parts['year']"
   ]
  },
  {
   "cell_type": "code",
   "execution_count": 31,
   "metadata": {
    "collapsed": false
   },
   "outputs": [
    {
     "data": {
      "image/png": "[encoded data removed]",
      "text/plain": [
       "<matplotlib.figure.Figure at 0xa803668>"
      ]
     },
     "metadata": {},
     "output_type": "display_data"
    }
   ],
   "source": [
    "plt.style.use('ggplot')\n",
    "plt.figure(figsize=(18, 8))\n",
    "plt.bar(range(len(arr)), arr[:,1]/3600.0, align='center')  # python 2.x\n",
    "plt.xticks(range(len(arr)), map(parse_int, arr[:,0]))\n",
    "# plt.title(r'Зависимость длины задержки от месяца', fontsize=20)  \n",
    "plt.ylabel(r'$Delay, H$', fontsize=18)\n",
    "plt.xlabel(r'$Month$', fontsize=18)\n",
    "# plt.show()\n",
    "plt.savefig(r'C:\\Users\\syber\\Desktop\\THESIS\\Hitches\\Hitches.png', bbox_inches='tight', dpi=200) #, pad_inches=0.05)  "
   ]
  }
 ],
 "metadata": {
  "kernelspec": {
   "display_name": "Python 2",
   "language": "python",
   "name": "python2"
  },
  "language_info": {
   "codemirror_mode": {
    "name": "ipython",
    "version": 2
   },
   "file_extension": ".py",
   "mimetype": "text/x-python",
   "name": "python",
   "nbconvert_exporter": "python",
   "pygments_lexer": "ipython2",
   "version": "2.7.11"
  }
 },
 "nbformat": 4,
 "nbformat_minor": 0
}
