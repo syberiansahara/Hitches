{
 "cells": [
  {
   "cell_type": "code",
   "execution_count": 1,
   "metadata": {
    "collapsed": true
   },
   "outputs": [],
   "source": [
    "import numpy as np\n",
    "import matplotlib\n",
    "import matplotlib.pyplot as plt\n",
    "import matplotlib.patches as mpatches\n",
    "%matplotlib inline\n",
    "from sklearn import linear_model\n"
   ]
  },
  {
   "cell_type": "code",
   "execution_count": 122,
   "metadata": {
    "collapsed": false
   },
   "outputs": [
    {
     "data": {
      "text/plain": [
       "list"
      ]
     },
     "execution_count": 122,
     "metadata": {},
     "output_type": "execute_result"
    }
   ],
   "source": [
    "hitches = [line.rstrip('\\r\\n') for line in open(r'C:\\Users\\syber\\Desktop\\THESIS\\Hitches\\THESIS-sandbox.csv')]\n",
    "type(hitches)"
   ]
  },
  {
   "cell_type": "code",
   "execution_count": 123,
   "metadata": {
    "collapsed": false
   },
   "outputs": [],
   "source": [
    "import re\n",
    "from datetime import timedelta\n",
    "\n",
    "regex = re.compile(r'((?P<days>\\d+?)d)?((?P<hours>\\d+?)h)?((?P<minutes>\\d+?)m)?((?P<seconds>\\d+?)s)? (?P<date>\\d+?M\\d+?Y)?$')\n",
    "\n",
    "def parse_time(time_str):\n",
    "    parts = regex.match(time_str)\n",
    "    if not parts:\n",
    "        return\n",
    "    parts = parts.groupdict()\n",
    "    \n",
    "    time_params = {}\n",
    "    interval_params = ['days', 'hours', 'minutes', 'seconds']\n",
    "    for (name) in (interval_params):\n",
    "        time_params[name] = int(parts[name])\n",
    "           \n",
    "    return int(timedelta(**time_params).seconds), parts['date'] "
   ]
  },
  {
   "cell_type": "code",
   "execution_count": 125,
   "metadata": {
    "collapsed": false
   },
   "outputs": [],
   "source": [
    "wow = map(parse_time, hitches)"
   ]
  },
  {
   "cell_type": "code",
   "execution_count": 126,
   "metadata": {
    "collapsed": false
   },
   "outputs": [
    {
     "data": {
      "text/plain": [
       "matrix([['405', '06M18Y'],\n",
       "        ['857', '06M18Y'],\n",
       "        ['568', '06M18Y'],\n",
       "        ['329', '06M18Y']], \n",
       "       dtype='|S11')"
      ]
     },
     "execution_count": 126,
     "metadata": {},
     "output_type": "execute_result"
    }
   ],
   "source": [
    "kek = np.asmatrix(wow)\n",
    "kek[3:7]"
   ]
  },
  {
   "cell_type": "code",
   "execution_count": 127,
   "metadata": {
    "collapsed": false
   },
   "outputs": [
    {
     "data": {
      "text/plain": [
       "(10655L, 2L)"
      ]
     },
     "execution_count": 127,
     "metadata": {},
     "output_type": "execute_result"
    }
   ],
   "source": [
    "kek.shape"
   ]
  },
  {
   "cell_type": "code",
   "execution_count": 128,
   "metadata": {
    "collapsed": false
   },
   "outputs": [
    {
     "data": {
      "text/plain": [
       "numpy.ndarray"
      ]
     },
     "execution_count": 128,
     "metadata": {},
     "output_type": "execute_result"
    }
   ],
   "source": [
    "keys = np.array(kek[:,1])\n",
    "type(keys)"
   ]
  },
  {
   "cell_type": "code",
   "execution_count": 129,
   "metadata": {
    "collapsed": false
   },
   "outputs": [
    {
     "data": {
      "text/plain": [
       "array([['06M18Y'],\n",
       "       ['06M18Y'],\n",
       "       ['06M18Y'],\n",
       "       ['06M18Y']], \n",
       "      dtype='|S11')"
      ]
     },
     "execution_count": 129,
     "metadata": {},
     "output_type": "execute_result"
    }
   ],
   "source": [
    "keys[3:7]"
   ]
  },
  {
   "cell_type": "code",
   "execution_count": 130,
   "metadata": {
    "collapsed": false
   },
   "outputs": [
    {
     "data": {
      "text/plain": [
       "array(['01M17Y', '01M18Y', '02M17Y', '02M18Y', '03M17Y', '03M18Y',\n",
       "       '04M17Y', '04M18Y', '05M17Y', '05M18Y', '06M17Y', '06M18Y',\n",
       "       '07M17Y', '08M17Y', '09M17Y', '10M17Y', '11M17Y', '12M16Y', '12M17Y'], \n",
       "      dtype='|S11')"
      ]
     },
     "execution_count": 130,
     "metadata": {},
     "output_type": "execute_result"
    }
   ],
   "source": [
    "unkeys = np.unique(keys)\n",
    "unkeys"
   ]
  },
  {
   "cell_type": "code",
   "execution_count": 148,
   "metadata": {
    "collapsed": false
   },
   "outputs": [
    {
     "name": "stdout",
     "output_type": "stream",
     "text": [
      "{'07M17Y': 10292.386324786325, '01M18Y': 2612.6482142857144, '06M17Y': 11118.121065375302, '02M18Y': 1780.9032258064517, '05M18Y': 3077.3775999999998, '05M17Y': 19117.685025817555, '02M17Y': 13297.081920903955, '06M18Y': 3453.1700000000001, '01M17Y': 13141.047091412742, '12M17Y': 6421.5971049457175, '12M16Y': 10525.905376344086, '08M17Y': 9569.4012738853507, '03M18Y': 4225.7058823529414, '09M17Y': 11938.688059701493, '04M18Y': 3431.4448105436572, '10M17Y': 7060.9845679012342, '04M17Y': 18445.365180467092, '11M17Y': 4819.5399361022364, '03M17Y': 11080.773930753565}\n"
     ]
    }
   ],
   "source": [
    "dict = {}\n",
    "for date in unkeys:\n",
    "    wow = np.squeeze(np.asarray(kek[kek[:,1] == date]))\n",
    "#     print type(wow)\n",
    "#     print wow.shape\n",
    "#     dict[date] = np.array(wow).astype(np.int)\n",
    "    dict[date] = np.mean(np.array(wow).astype(np.int))\n",
    "    \n",
    "print dict"
   ]
  },
  {
   "cell_type": "code",
   "execution_count": 147,
   "metadata": {
    "collapsed": false
   },
   "outputs": [
    {
     "name": "stdout",
     "output_type": "stream",
     "text": [
      "<type 'numpy.ndarray'>\n",
      "<type 'numpy.int32'>\n",
      "<type 'numpy.ndarray'>\n"
     ]
    },
    {
     "data": {
      "text/plain": [
       "13141.047091412742"
      ]
     },
     "execution_count": 147,
     "metadata": {},
     "output_type": "execute_result"
    }
   ],
   "source": [
    "print type(dict['01M17Y'])\n",
    "print type(dict['01M17Y'][1])\n",
    "print type(dict['01M17Y'])\n",
    "np.mean(dict['01M17Y'])"
   ]
  },
  {
   "cell_type": "code",
   "execution_count": 152,
   "metadata": {
    "collapsed": false
   },
   "outputs": [
    {
     "data": {
      "text/plain": [
       "([<matplotlib.axis.XTick at 0xa0e0e48>,\n",
       "  <matplotlib.axis.XTick at 0x938e5c0>,\n",
       "  <matplotlib.axis.XTick at 0x9679748>,\n",
       "  <matplotlib.axis.XTick at 0x4240588>,\n",
       "  <matplotlib.axis.XTick at 0x8f21b38>,\n",
       "  <matplotlib.axis.XTick at 0x8f21b00>,\n",
       "  <matplotlib.axis.XTick at 0x936fdd8>,\n",
       "  <matplotlib.axis.XTick at 0x936f4a8>,\n",
       "  <matplotlib.axis.XTick at 0x93e8da0>,\n",
       "  <matplotlib.axis.XTick at 0x93e8630>,\n",
       "  <matplotlib.axis.XTick at 0x93f4cf8>,\n",
       "  <matplotlib.axis.XTick at 0x81ad2b0>,\n",
       "  <matplotlib.axis.XTick at 0x81ade10>,\n",
       "  <matplotlib.axis.XTick at 0x8e922b0>,\n",
       "  <matplotlib.axis.XTick at 0x8e922e8>,\n",
       "  <matplotlib.axis.XTick at 0x8e926d8>,\n",
       "  <matplotlib.axis.XTick at 0x8f066d8>,\n",
       "  <matplotlib.axis.XTick at 0x8f065c0>,\n",
       "  <matplotlib.axis.XTick at 0x8a8e208>],\n",
       " <a list of 19 Text xticklabel objects>)"
      ]
     },
     "execution_count": 152,
     "metadata": {},
     "output_type": "execute_result"
    },
    {
     "data": {
      "image/png": "[encoded data removed]",
      "text/plain": [
       "<matplotlib.figure.Figure at 0x8a8ffd0>"
      ]
     },
     "metadata": {},
     "output_type": "display_data"
    }
   ],
   "source": [
    " plt.bar(range(len(dict)), dict.values(), align='center')  # python 2.x\n",
    "plt.xticks(range(len(dict)), dict.keys())"
   ]
  }
 ],
 "metadata": {
  "kernelspec": {
   "display_name": "Python 2",
   "language": "python",
   "name": "python2"
  }
 },
 "nbformat": 4,
 "nbformat_minor": 0
}
